{
 "cells": [
  {
   "cell_type": "code",
   "execution_count": 149,
   "id": "6d2c7528-44be-4086-b2ea-b010d1ea817e",
   "metadata": {},
   "outputs": [],
   "source": [
    "from sklearn.feature_extraction.text import TfidfVectorizer\n",
    "from sklearn.model_selection import train_test_split\n",
    "from sklearn.linear_model import LogisticRegression\n",
    "import matplotlib.pyplot as plt\n",
    "import os\n",
    "import pandas as pd"
   ]
  },
  {
   "cell_type": "code",
   "execution_count": 150,
   "id": "e7fe7e9b-8f43-4457-b5f0-494065919e69",
   "metadata": {},
   "outputs": [],
   "source": [
    "def extract_article_number(folder_name: str) -> int:\n",
    "    return int(folder_name.split('_')[1])\n",
    "def openText(file_path: str) -> str : \n",
    "    with open(file_path, \"r\", encoding=\"utf-8\") as f: \n",
    "        return f.read()"
   ]
  },
  {
   "cell_type": "code",
   "execution_count": 151,
   "id": "559f6325-ebf9-4815-880a-61944f59b3e7",
   "metadata": {},
   "outputs": [],
   "source": [
    "baseDir = \"train\"\n",
    "labels = pd.read_csv(\"train.csv\")\n",
    "realTextMap = dict(zip(labels.iloc[:, 0], labels.iloc[:, 1]))"
   ]
  },
  {
   "cell_type": "code",
   "execution_count": 152,
   "id": "c3b2a41d-bcd3-48ee-9e8c-418c7c3f685a",
   "metadata": {},
   "outputs": [],
   "source": [
    "finalTexts = []\n",
    "finalLabels = []\n",
    "folders = os.listdir(baseDir)\n",
    "for folder in folders :\n",
    "    file1Path = os.path.join(baseDir, folder, \"file_1.txt\")\n",
    "    file2Path = os.path.join(baseDir, folder, \"file_2.txt\")\n",
    "    docId = extract_article_number(folder)\n",
    "    text1 = openText(file1Path)\n",
    "    text2 = openText(file2Path)\n",
    "    if(realTextMap[docId] == 1) :\n",
    "        finalTexts.append(text1)\n",
    "        finalLabels.append(\"real\")\n",
    "        finalTexts.append(text2)\n",
    "        finalLabels.append(\"fake\")\n",
    "    else :\n",
    "        finalTexts.append(text2)\n",
    "        finalLabels.append(\"real\")\n",
    "        finalTexts.append(text1)\n",
    "        finalLabels.append(\"fake\")"
   ]
  },
  {
   "cell_type": "code",
   "execution_count": 153,
   "id": "0541a28b-f52c-4dc5-953f-fdfcd60d3600",
   "metadata": {},
   "outputs": [],
   "source": [
    "vectorizer = TfidfVectorizer(stop_words='english')\n",
    "tfIdf_matrix = vectorizer.fit_transform(finalTexts)\n",
    "X_train, X_test, y_train, y_test = train_test_split(tfIdf_matrix, finalLabels, test_size = 0.4, random_state = 42)\n",
    "model = LogisticRegression(max_iter = 1000)\n",
    "model.fit(X_train, y_train)\n",
    "y_pred = model.predict(X_test)"
   ]
  },
  {
   "cell_type": "code",
   "execution_count": 154,
   "id": "9344341d-fc3b-46e2-a760-d5ccc5cd5896",
   "metadata": {},
   "outputs": [
    {
     "name": "stdout",
     "output_type": "stream",
     "text": [
      "              precision    recall  f1-score   support\n",
      "\n",
      "        fake       0.82      0.36      0.50        39\n",
      "        real       0.58      0.92      0.71        37\n",
      "\n",
      "    accuracy                           0.63        76\n",
      "   macro avg       0.70      0.64      0.60        76\n",
      "weighted avg       0.70      0.63      0.60        76\n",
      "\n"
     ]
    }
   ],
   "source": [
    "from sklearn.metrics import classification_report, confusion_matrix\n",
    "import seaborn as sns\n",
    "# Classification report\n",
    "print(classification_report(y_test, y_pred))\n",
    "\n",
    "# Confusion matrix\n",
    "# cm = confusion_matrix(y_test, y_pred, labels=[\"real\", \"fake\"])\n",
    "# sns.heatmap(cm, annot=True, fmt='d', cmap=\"Blues\", xticklabels=[\"real\", \"fake\"], yticklabels=[\"real\", \"fake\"])\n",
    "# plt.xlabel(\"Predicted\")\n",
    "# plt.ylabel(\"Actual\")\n",
    "# plt.title(\"Confusion Matrix\")\n",
    "# plt.show()"
   ]
  },
  {
   "cell_type": "code",
   "execution_count": 167,
   "id": "4ce74426-efc3-487c-b57a-288deba1d659",
   "metadata": {},
   "outputs": [
    {
     "name": "stdout",
     "output_type": "stream",
     "text": [
      "Predicted Label: real\n",
      "Probability: [0.47995371 0.52004629]\n"
     ]
    }
   ],
   "source": [
    "# Example text\n",
    "text = \"The President held a press conference today to address rising inflation concerns.\"\n",
    "\n",
    "# Transform using the same vectorizer\n",
    "X_input = vectorizer.transform([text])  # must be a list\n",
    "\n",
    "# Predict class\n",
    "predicted_class = model.predict(X_input)[0]\n",
    "predicted_prob = model.predict_proba(X_input)[0]\n",
    "\n",
    "# Print results\n",
    "print(f\"Predicted Label: {predicted_class}\")\n",
    "print(f\"Probability: {predicted_prob}\")\n"
   ]
  },
  {
   "cell_type": "code",
   "execution_count": 155,
   "id": "f21e465f-0ec1-4dd3-8d5c-b1f25c1cd18a",
   "metadata": {},
   "outputs": [],
   "source": [
    "#Results\n",
    "submission_rows = []\n",
    "resultTestDir = \"test\"\n",
    "resultFolders = sorted(os.listdir(resultTestDir))\n",
    "for i, folder in enumerate(resultFolders) :\n",
    "    file1Path = os.path.join(resultTestDir, folder, \"file_1.txt\")\n",
    "    file2Path = os.path.join(resultTestDir, folder, \"file_2.txt\")\n",
    "    text1 = openText(file1Path)\n",
    "    text2 = openText(file2Path)\n",
    "    tfidf_pair = vectorizer.transform([text1, text2])\n",
    "    proba = model.predict_proba(tfidf_pair)\n",
    "    prob_real_file1 = proba[0][1]\n",
    "    prob_real_file2 = proba[1][1]\n",
    "    real_text_id = 1 if prob_real_file1 > prob_real_file2 else 2\n",
    "    submission_rows.append({\n",
    "        \"id\": i,\n",
    "        \"real_text_id\": real_text_id\n",
    "    })"
   ]
  },
  {
   "cell_type": "code",
   "execution_count": 156,
   "id": "0143c918-5aff-4d62-8375-350dee753601",
   "metadata": {},
   "outputs": [],
   "source": [
    "submission_df = pd.DataFrame(submission_rows)\n",
    "submission_df.to_csv(\"submission.csv\", index=False)"
   ]
  }
 ],
 "metadata": {
  "kernelspec": {
   "display_name": "Python 3 (ipykernel)",
   "language": "python",
   "name": "python3"
  },
  "language_info": {
   "codemirror_mode": {
    "name": "ipython",
    "version": 3
   },
   "file_extension": ".py",
   "mimetype": "text/x-python",
   "name": "python",
   "nbconvert_exporter": "python",
   "pygments_lexer": "ipython3",
   "version": "3.10.12"
  }
 },
 "nbformat": 4,
 "nbformat_minor": 5
}
